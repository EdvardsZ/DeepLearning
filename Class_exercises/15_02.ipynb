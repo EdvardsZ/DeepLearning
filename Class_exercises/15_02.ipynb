{
 "cells": [
  {
   "attachments": {},
   "cell_type": "markdown",
   "metadata": {},
   "source": [
    "# 1.\n",
    "\n",
    "\\begin{equation}\n",
    "\n",
    "Z_1 = x_1 W_1 + b_1 = \\begin{bmatrix} 1 & -1\\end{bmatrix} \\begin{bmatrix} 2 & 1 & 1 \\\\ 1 & 3 & -1\\end{bmatrix} + \\begin{bmatrix} 0 & 1 & -3\\end{bmatrix}= \\begin{bmatrix} 1 & -2 & 2 \\end{bmatrix} + \\begin{bmatrix} 0 & 1 & -3\\end{bmatrix} = \\begin{bmatrix} 1 & -1 & -1\\end{bmatrix}\n",
    "\n",
    "\\end{equation}"
   ]
  },
  {
   "attachments": {},
   "cell_type": "markdown",
   "metadata": {},
   "source": [
    "\\begin{equation}\n",
    "\n",
    "H_1 = ReLU(Z_1) = \\begin{bmatrix} 1 & 0 & 0 \\end{bmatrix}\n",
    "\\end{equation}"
   ]
  },
  {
   "attachments": {},
   "cell_type": "markdown",
   "metadata": {},
   "source": [
    "\\begin{equation}\n",
    "\n",
    "O = H_1 W_2 + b_2 = \\begin{bmatrix} 1 & 0 & 0 \\end{bmatrix} \\begin{bmatrix} 1 \\\\ 2 \\\\ 3 \\end{bmatrix} + 0 = \\begin{bmatrix} 1 \\end{bmatrix}\n",
    "\n",
    "\\end{equation}"
   ]
  },
  {
   "attachments": {},
   "cell_type": "markdown",
   "metadata": {},
   "source": [
    "\\begin{equation}\n",
    "\n",
    "L = \\frac{1}{2} (O - y)^2 = \\frac{1}{2} (1 - 2)^2 = 0.5\n",
    "\\end{equation}"
   ]
  },
  {
   "attachments": {},
   "cell_type": "markdown",
   "metadata": {},
   "source": [
    "Derivatives:\n",
    "\n",
    "\\begin{equation}\n",
    "\n",
    "\\frac{\\partial L}{\\partial O} = O - y = 1 - 2 = -1\n",
    "\\end{equation}"
   ]
  },
  {
   "attachments": {},
   "cell_type": "markdown",
   "metadata": {},
   "source": [
    "\\begin{equation}\n",
    "\n",
    "\\frac{\\partial L}{\\partial W_2} = \\frac{\\partial L}{\\partial O} \\frac{\\partial O}{\\partial W_2} = -1 \\begin{bmatrix} 1 \\\\ 0 \\\\ 2 \\end{bmatrix} = \\begin{bmatrix} -1 \\\\ 0 \\\\ -2 \\end{bmatrix}\n",
    "\n",
    "\\end{equation}"
   ]
  },
  {
   "attachments": {},
   "cell_type": "markdown",
   "metadata": {},
   "source": [
    "\\begin{equation}\n",
    "\n",
    "\\frac{\\partial L}{\\partial b_2} = \\frac{\\partial L}{\\partial O} \\frac{\\partial O}{\\partial b_2} = -1 \\cdot 0 = 0\n",
    "\n",
    "\\end{equation}"
   ]
  },
  {
   "attachments": {},
   "cell_type": "markdown",
   "metadata": {},
   "source": [
    "\\begin{equation}\n",
    "\n",
    "\\frac{\\partial L}{\\partial H_1} = \\frac{\\partial L}{\\partial O} \\frac{\\partial O}{\\partial H_1} = -1 \\begin{bmatrix} 1 \\\\ 2 \\\\ 3 \\end{bmatrix} = \\begin{bmatrix} -1 \\\\ -2 \\\\ -3 \\end{bmatrix}\n",
    "\n",
    "\\end{equation}"
   ]
  },
  {
   "attachments": {},
   "cell_type": "markdown",
   "metadata": {},
   "source": [
    "\\begin{equation}\n",
    "\n",
    "\\frac{\\partial L}{\\partial Z_1} = \\frac{\\partial L}{\\partial H_1} \\frac{\\partial H_1}{\\partial Z_1} = \\begin{bmatrix} -1 \\\\ -2 \\\\ -3 \\end{bmatrix} \\begin{bmatrix} 1 & 0 & 0 \\end{bmatrix} = \\begin{bmatrix} -1 & 0 & 0 \\end{bmatrix}\n",
    "\n",
    "\\end{equation}"
   ]
  },
  {
   "attachments": {},
   "cell_type": "markdown",
   "metadata": {},
   "source": [
    "\\begin{equation}\n",
    "\n",
    "\\frac{\\partial L}{\\partial W_1} = \\frac{\\partial L}{\\partial Z_1} \\frac{\\partial Z_1}{\\partial W_1} = \\begin{bmatrix} -1 & 0 & 0 \\end{bmatrix} \\begin{bmatrix} 2 & 1 & 1 \\\\ 1 & 3 & -1\\end{bmatrix} = \\begin{bmatrix} -2 & -1 & -1 \\\\ -1 & -3 & 1 \\end{bmatrix}\n",
    "\\end{equation}"
   ]
  },
  {
   "cell_type": "markdown",
   "metadata": {},
   "source": []
  }
 ],
 "metadata": {
  "kernelspec": {
   "display_name": "pytorch",
   "language": "python",
   "name": "python3"
  },
  "language_info": {
   "name": "python",
   "version": "3.9.13"
  },
  "orig_nbformat": 4,
  "vscode": {
   "interpreter": {
    "hash": "79938c2f5c21d2323d35c0a981ad2f62680a8580354cf190d7e2bff72c612276"
   }
  }
 },
 "nbformat": 4,
 "nbformat_minor": 2
}
