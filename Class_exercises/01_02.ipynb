{
 "cells": [
  {
   "attachments": {},
   "cell_type": "markdown",
   "metadata": {},
   "source": [
    "\n",
    "\\begin{equation}\n",
    "\n",
    "H_1 = ReLu(x_1W_1 + b_1) = ReLu(\\begin{bmatrix} -2 & 4 \\end{bmatrix}) + \\begin{bmatrix} 1 & -2\\end{bmatrix} = ReLu(\\begin{bmatrix} -1 & 2\\end{bmatrix}) = \\begin{bmatrix} 0 & 2\\end{bmatrix}\n",
    "\n",
    "\\end{equation}"
   ]
  },
  {
   "attachments": {},
   "cell_type": "markdown",
   "metadata": {},
   "source": [
    "\\begin{equation}\n",
    "H_2 = ReLu(H_1 W_2 + b1) = ReLu(\\begin{bmatrix} 0 & 2\\end{bmatrix} \\begin{bmatrix} 1 & -2 & 3 \\\\ -4 & 5 & 6\\end{bmatrix} + \\begin{bmatrix} 1 & -2 & 3\\end{bmatrix}) = ReLu(\\begin{bmatrix} -7 & 8 & 15\\end{bmatrix}) = \\begin{bmatrix} 0 & 8 & 15\\end{bmatrix}\n",
    "\\end{equation}"
   ]
  },
  {
   "attachments": {},
   "cell_type": "markdown",
   "metadata": {},
   "source": [
    "\\begin{equation}\n",
    "    \\hat{y} = H_2 W_3 + b_3 = \\begin{bmatrix} 0 & 8 & 15\\end{bmatrix} \\begin{bmatrix} -1 \\\\ 4 \\\\ -2\\end{bmatrix} + \\begin{bmatrix} 2\\end{bmatrix} = \\begin{bmatrix} 4\\end{bmatrix}\n",
    "\\end{equation}"
   ]
  },
  {
   "attachments": {},
   "cell_type": "markdown",
   "metadata": {},
   "source": [
    "\\begin{equation}\n",
    "    \\frac{\\partial L}{\\partial Z^{(2)}} = \\begin{bmatrix} 0 & -4 & 2\\end{bmatrix}\n",
    "\\end{equation}"
   ]
  },
  {
   "attachments": {},
   "cell_type": "markdown",
   "metadata": {},
   "source": [
    "\\begin{equation} \n",
    "    \\frac{\\partial L}{\\partial Z^{(2)}} \\frac{ \\partial Z^{(2)}}{ \\partial b^{(2)}} = [ 0 -4, 2]\n",
    "\\end{equation}"
   ]
  },
  {
   "attachments": {},
   "cell_type": "markdown",
   "metadata": {},
   "source": [
    "\\begin{equation} \n",
    "    \\frac{\\partial L}{\\partial Z^{(2)}} \\frac{ \\partial Z^{(2)}}{ \\partial W^{(2)}} = H_1 transpose \\begin{bmatrix} 0 & -4 & 2\\end{bmatrix} * \n",
    "\\end{equation}\n"
   ]
  },
  {
   "cell_type": "markdown",
   "metadata": {},
   "source": []
  }
 ],
 "metadata": {
  "kernelspec": {
   "display_name": "pytorch",
   "language": "python",
   "name": "python3"
  },
  "language_info": {
   "name": "python",
   "version": "3.9.13"
  },
  "orig_nbformat": 4,
  "vscode": {
   "interpreter": {
    "hash": "79938c2f5c21d2323d35c0a981ad2f62680a8580354cf190d7e2bff72c612276"
   }
  }
 },
 "nbformat": 4,
 "nbformat_minor": 2
}
