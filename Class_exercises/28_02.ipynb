{
 "cells": [
  {
   "attachments": {},
   "cell_type": "markdown",
   "metadata": {},
   "source": [
    "I am give matrix:\n",
    "\n",
    "\\begin{equation}\n",
    "\n",
    "\\begin{bmatrix} 0 & 0 & 0 & 0 & 0\\\\ 0 & 1 & 1 & 1 & 0\\\\ 0 & 1 & 0 & 0 & 0\\\\ 0 & 1 & 1 & 1 & 0\\\\ 0 & 0 & 0 & 0 & 0\\end{bmatrix}\n",
    "\n",
    "\n",
    "\\end{equation}"
   ]
  },
  {
   "attachments": {},
   "cell_type": "markdown",
   "metadata": {},
   "source": [
    "Suppose that you have the kernel (filter):\n",
    "\n",
    "\\begin{equation}\n",
    "\n",
    "K = \\begin{bmatrix} 1 & 0 & -1 \\\\ 2 & 0 & -2\\\\ 1 & 0 & -1\\end{bmatrix}\n",
    "\n",
    "\\end{equation}"
   ]
  },
  {
   "attachments": {},
   "cell_type": "markdown",
   "metadata": {},
   "source": [
    "and $ b=1 $"
   ]
  },
  {
   "attachments": {},
   "cell_type": "markdown",
   "metadata": {},
   "source": [
    "1. We have padding=0 and stride=1. What is the output of the layer (feature map)?"
   ]
  },
  {
   "cell_type": "code",
   "execution_count": 20,
   "metadata": {},
   "outputs": [
    {
     "name": "stdout",
     "output_type": "stream",
     "text": [
      "torch.Size([5, 5])\n",
      "torch.Size([3, 3])\n"
     ]
    },
    {
     "ename": "RuntimeError",
     "evalue": "The size of tensor a (2) must match the size of tensor b (3) at non-singleton dimension 1",
     "output_type": "error",
     "traceback": [
      "\u001b[0;31m---------------------------------------------------------------------------\u001b[0m",
      "\u001b[0;31mRuntimeError\u001b[0m                              Traceback (most recent call last)",
      "Cell \u001b[0;32mIn[20], line 25\u001b[0m\n\u001b[1;32m     19\u001b[0m             res[i, j] \u001b[39m=\u001b[39m torch\u001b[39m.\u001b[39msum(matrix[start:end, start2:end2] \u001b[39m*\u001b[39m kernel) \u001b[39m+\u001b[39m bias\n\u001b[1;32m     23\u001b[0m     \u001b[39mprint\u001b[39m(res)\n\u001b[0;32m---> 25\u001b[0m Conv_2d(matrix, kernel)\n",
      "Cell \u001b[0;32mIn[20], line 19\u001b[0m, in \u001b[0;36mConv_2d\u001b[0;34m(matrix, kernel, bias, padding, stride)\u001b[0m\n\u001b[1;32m     16\u001b[0m         start2 \u001b[39m=\u001b[39m j \u001b[39m*\u001b[39m stride\n\u001b[1;32m     17\u001b[0m         end2 \u001b[39m=\u001b[39m start2 \u001b[39m+\u001b[39m kernel\u001b[39m.\u001b[39mshape[\u001b[39m1\u001b[39m]\n\u001b[0;32m---> 19\u001b[0m         res[i, j] \u001b[39m=\u001b[39m torch\u001b[39m.\u001b[39msum(matrix[start:end, start2:end2] \u001b[39m*\u001b[39;49m kernel) \u001b[39m+\u001b[39m bias\n\u001b[1;32m     23\u001b[0m \u001b[39mprint\u001b[39m(res)\n",
      "\u001b[0;31mRuntimeError\u001b[0m: The size of tensor a (2) must match the size of tensor b (3) at non-singleton dimension 1"
     ]
    }
   ],
   "source": [
    "import torch\n",
    "\n",
    "matrix = torch.tensor([[0, 0, 0, 0, 0], [0, 1, 1, 1, 0], [0, 1, 0, 0, 0], [0, 1, 1, 1, 0], [0, 0, 0, 0, 0]], dtype=torch.float32)\n",
    "\n",
    "kernel = torch.tensor([[1,0,-1], [2,0,-2], [1,0,-1]], dtype=torch.float32)\n",
    "\n",
    "def Conv_2d(matrix, kernel, bias = -1, padding = 1, stride = 1):\n",
    "    print(matrix.shape)\n",
    "    print(kernel.shape)\n",
    "    res = torch.zeros((matrix.shape[0] + 2 * padding - kernel.shape[0] + 1, matrix.shape[1] + 2 * padding - kernel.shape[1] + 1))\n",
    "    \n",
    "    for i in range(res.shape[0]):\n",
    "        for j in range(res.shape[1]):\n",
    "            start = i * stride\n",
    "            end = start + kernel.shape[0]\n",
    "            start2 = j * stride\n",
    "            end2 = start2 + kernel.shape[1]\n",
    "\n",
    "            res[i, j] = torch.sum(matrix[start:end, start2:end2] * kernel) + bias\n",
    "            \n",
    "\n",
    "\n",
    "    print(res)\n",
    "\n",
    "Conv_2d(matrix, kernel)"
   ]
  },
  {
   "cell_type": "code",
   "execution_count": null,
   "metadata": {},
   "outputs": [],
   "source": []
  }
 ],
 "metadata": {
  "kernelspec": {
   "display_name": "pytorch",
   "language": "python",
   "name": "python3"
  },
  "language_info": {
   "codemirror_mode": {
    "name": "ipython",
    "version": 3
   },
   "file_extension": ".py",
   "mimetype": "text/x-python",
   "name": "python",
   "nbconvert_exporter": "python",
   "pygments_lexer": "ipython3",
   "version": "3.9.13"
  },
  "orig_nbformat": 4,
  "vscode": {
   "interpreter": {
    "hash": "79938c2f5c21d2323d35c0a981ad2f62680a8580354cf190d7e2bff72c612276"
   }
  }
 },
 "nbformat": 4,
 "nbformat_minor": 2
}
