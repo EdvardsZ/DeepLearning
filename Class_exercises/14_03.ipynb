{
 "cells": [
  {
   "attachments": {},
   "cell_type": "markdown",
   "metadata": {},
   "source": [
    "1. Suppose the ground truth bounding has center (0.5, 0.5), width=0.6 and height=0.2. The predicted bounding box has center (0.4, 0.4), width=0.5 and height=0.5. What is the intersection over union?\n",
    "\n"
   ]
  },
  {
   "cell_type": "code",
   "execution_count": 4,
   "metadata": {},
   "outputs": [],
   "source": [
    "ground_truth_height = 0.6\n",
    "ground_truth_width = 0.2\n",
    "\n",
    "ground_truth_center = (0.5,0.5)\n",
    "\n",
    "predicted_height = 0.5\n",
    "predicted_width = 0.5\n",
    "\n",
    "predicted_center = (0.4,0.4)\n"
   ]
  },
  {
   "cell_type": "markdown",
   "metadata": {},
   "source": []
  }
 ],
 "metadata": {
  "kernelspec": {
   "display_name": "pytorch_2",
   "language": "python",
   "name": "python3"
  },
  "language_info": {
   "codemirror_mode": {
    "name": "ipython",
    "version": 3
   },
   "file_extension": ".py",
   "mimetype": "text/x-python",
   "name": "python",
   "nbconvert_exporter": "python",
   "pygments_lexer": "ipython3",
   "version": "3.10.9"
  },
  "orig_nbformat": 4
 },
 "nbformat": 4,
 "nbformat_minor": 2
}
